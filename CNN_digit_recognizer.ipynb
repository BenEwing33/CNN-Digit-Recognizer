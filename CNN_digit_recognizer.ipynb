{
  "cells": [
    {
      "metadata": {
        "_uuid": "2703024146f86b119a4f1529499b2f2f882707bb"
      },
      "cell_type": "markdown",
      "source": "# Introduction\n"
    },
    {
      "metadata": {
        "_uuid": "0fb217073cbe2910f0f196356babc1ca1e9426dc"
      },
      "cell_type": "markdown",
      "source": "The data files train.csv and test.csv contain gray-scale images of hand-drawn digits, from zero through nine.\n\nEach image is 28 pixels in height and 28 pixels in width, for a total of 784 pixels in total. Each pixel has a single pixel-value associated with it, indicating the lightness or darkness of that pixel, with higher numbers meaning darker. This pixel-value is an integer between 0 and 255, inclusive.\n\nThe training data set, (train.csv), has 785 columns. The first column, called \"label\", is the digit that was drawn by the user. The rest of the columns contain the pixel-values of the associated image."
    },
    {
      "metadata": {
        "_uuid": "afcc98a3b015adcb16ca0022cb5064645733eeea"
      },
      "cell_type": "markdown",
      "source": "## Content\n1. Introduction\n2. Data preparation\n3. CNN\n4. Training and Evaluating the model\n5. Prediction and submition"
    },
    {
      "metadata": {
        "_uuid": "8f2839f25d086af736a60e9eeb907d3b93b6e0e5",
        "_cell_guid": "b1076dfc-b9ad-4769-8c92-a6c4dae69d19",
        "trusted": true
      },
      "cell_type": "code",
      "source": "#importing libraries\nimport pandas as pd\nimport numpy as np\nimport matplotlib.pyplot as plt\n%matplotlib inline\nimport seaborn as sns\nfrom keras import layers\nfrom keras import regularizers\nfrom keras import models\nfrom keras.utils import to_categorical\nfrom keras.preprocessing.image import ImageDataGenerator\nfrom keras.models import load_model",
      "execution_count": 1,
      "outputs": [
        {
          "output_type": "stream",
          "text": "/opt/conda/lib/python3.6/site-packages/h5py/__init__.py:36: FutureWarning: Conversion of the second argument of issubdtype from `float` to `np.floating` is deprecated. In future, it will be treated as `np.float64 == np.dtype(float).type`.\n  from ._conv import register_converters as _register_converters\nUsing TensorFlow backend.\n",
          "name": "stderr"
        }
      ]
    },
    {
      "metadata": {
        "_cell_guid": "79c7e3d0-c299-4dcb-8224-4455121ee9b0",
        "_uuid": "d629ff2d2480ee46fbb7e2d37f6b5fab8052498a",
        "trusted": true,
        "collapsed": true
      },
      "cell_type": "code",
      "source": "#loading data\ntrain=pd.read_csv('../input/train.csv')\ntest=pd.read_csv('../input/test.csv')",
      "execution_count": 2,
      "outputs": []
    },
    {
      "metadata": {
        "_uuid": "603b3083f785c897adb21ea2c62579b8adf5dc66"
      },
      "cell_type": "markdown",
      "source": "## Data preparation "
    },
    {
      "metadata": {
        "trusted": true,
        "collapsed": true,
        "_uuid": "58bcf65c96adfd6b431f94609f984cb22970266b"
      },
      "cell_type": "code",
      "source": "train_images=train.iloc[:,1:].values\ntrain_labels=train.iloc[:,0:1].values\ntest_X=test.iloc[:,:].values",
      "execution_count": 3,
      "outputs": []
    },
    {
      "metadata": {
        "trusted": true,
        "_uuid": "29ece4df93be6ce7c4228f328ac2a29f783dcbd0"
      },
      "cell_type": "code",
      "source": "sns.countplot(train['label'])",
      "execution_count": 4,
      "outputs": [
        {
          "output_type": "execute_result",
          "execution_count": 4,
          "data": {
            "text/plain": "<matplotlib.axes._subplots.AxesSubplot at 0x7fe787c92b38>"
          },
          "metadata": {}
        },
        {
          "output_type": "display_data",
          "data": {
            "text/plain": "<matplotlib.figure.Figure at 0x7fe787c92390>",
            "image/png": "[encoded data removed]"
          },
          "metadata": {}
        }
      ]
    },
    {
      "metadata": {
        "trusted": true,
        "_uuid": "8cb75a606cf70ab0ec083eaa118535c90b53d1e9"
      },
      "cell_type": "code",
      "source": "train_images",
      "execution_count": 5,
      "outputs": [
        {
          "output_type": "execute_result",
          "execution_count": 5,
          "data": {
            "text/plain": "array([[0, 0, 0, ..., 0, 0, 0],\n       [0, 0, 0, ..., 0, 0, 0],\n       [0, 0, 0, ..., 0, 0, 0],\n       ...,\n       [0, 0, 0, ..., 0, 0, 0],\n       [0, 0, 0, ..., 0, 0, 0],\n       [0, 0, 0, ..., 0, 0, 0]])"
          },
          "metadata": {}
        }
      ]
    },
    {
      "metadata": {
        "trusted": true,
        "collapsed": true,
        "_uuid": "835b55b6983c69e521450b3a3f35f1866cb7a4dd"
      },
      "cell_type": "code",
      "source": "train_images = train_images.reshape((-1, 28, 28, 1))\ntrain_images = train_images.astype('float32') / 255\ntest = test.values.reshape(-1,28,28,1)\ntest = test / 255.0",
      "execution_count": 6,
      "outputs": []
    },
    {
      "metadata": {
        "trusted": true,
        "_uuid": "1149a50f5fbf7136eed014688fed6379efa6fa37"
      },
      "cell_type": "code",
      "source": "train_images.shape",
      "execution_count": 7,
      "outputs": [
        {
          "output_type": "execute_result",
          "execution_count": 7,
          "data": {
            "text/plain": "(42000, 28, 28, 1)"
          },
          "metadata": {}
        }
      ]
    },
    {
      "metadata": {
        "trusted": true,
        "_uuid": "8f2bfff6b4d32ce40d1a7a53cee5a113c28abf3c"
      },
      "cell_type": "code",
      "source": "# Some examples\ng = plt.imshow(train_images[20][:,:,0])\ng=plt.title(train_labels[20])",
      "execution_count": 8,
      "outputs": [
        {
          "output_type": "display_data",
          "data": {
            "text/plain": "<matplotlib.figure.Figure at 0x7fe787a91cc0>",
            "image/png": "[encoded data removed]"
          },
          "metadata": {}
        }
      ]
    },
    {
      "metadata": {
        "trusted": true,
        "collapsed": true,
        "_uuid": "0e37a058e7531da220f7d948523f3e08367710da"
      },
      "cell_type": "code",
      "source": "train_labels = to_categorical(train_labels)",
      "execution_count": 9,
      "outputs": []
    },
    {
      "metadata": {
        "trusted": true,
        "collapsed": true,
        "_uuid": "2a6facbe3ebd3e94f3998d4100a15f67b0171c78"
      },
      "cell_type": "code",
      "source": "#using data agumenteation\ndatagen = ImageDataGenerator(\n        featurewise_center=False,  # set input mean to 0 over the dataset\n        samplewise_center=False,  # set each sample mean to 0\n        featurewise_std_normalization=False,  # divide inputs by std of the dataset\n        samplewise_std_normalization=False,  # divide each input by its std\n        zca_whitening=False,  # apply ZCA whitening\n        rotation_range=10,  # randomly rotate images in the range (degrees, 0 to 180)\n        zoom_range = 0.1, # Randomly zoom image \n        width_shift_range=0.1,  # randomly shift images horizontally (fraction of total width)\n        height_shift_range=0.1,  # randomly shift images vertically (fraction of total height)\n        horizontal_flip=False,  # randomly flip images\n        vertical_flip=False)  # randomly flip images\ndatagen.fit(train_images)",
      "execution_count": 10,
      "outputs": []
    },
    {
      "metadata": {
        "_uuid": "a0b02793e4097662917277c7a4a0064defe476d4"
      },
      "cell_type": "markdown",
      "source": "## CNN"
    },
    {
      "metadata": {
        "trusted": true,
        "_uuid": "04745f25d7b7d63d687aa0ce23c7791195663d79",
        "collapsed": true
      },
      "cell_type": "code",
      "source": "model = models.Sequential()\n\nmodel.add(layers.Conv2D(filters = 32, kernel_size = (5,5),padding = 'Same',activation ='relu', input_shape = (28,28,1)))\nmodel.add(layers.Conv2D(filters = 32, kernel_size = (5,5),padding = 'Same',activation ='relu'))\nmodel.add(layers.MaxPool2D(pool_size=(2,2)))\nmodel.add(layers.Dropout(0.25))\n\nmodel.add(layers.Conv2D(filters = 64, kernel_size = (3,3),padding = 'Same', activation ='relu'))\nmodel.add(layers.Conv2D(filters = 64, kernel_size = (3,3),padding = 'Same', activation ='relu'))\nmodel.add(layers.MaxPool2D(pool_size=(2,2), strides=(2,2)))\nmodel.add(layers.Dropout(0.25))\n\nmodel.add(layers.Conv2D(filters = 64, kernel_size = (3,3),padding = 'Same', activation ='relu'))\nmodel.add(layers.Conv2D(filters = 64, kernel_size = (3,3),padding = 'Same', activation ='relu'))\nmodel.add(layers.MaxPool2D(pool_size=(2,2), strides=(2,2)))\nmodel.add(layers.Dropout(0.25))\n\nmodel.add(layers.Flatten())\nmodel.add(layers.Dropout(0.25))\nmodel.add(layers.Dense(256, activation='relu',kernel_regularizer=regularizers.l2(0.001)))\nmodel.add(layers.Dropout(0.35))\nmodel.add(layers.Dense(10, activation='softmax'))\nmodel.compile(optimizer='adam',\nloss='categorical_crossentropy',\nmetrics=['accuracy'])",
      "execution_count": 13,
      "outputs": []
    },
    {
      "metadata": {
        "_uuid": "bacd5b7555853e1694bb390645ec5f52f4d2d19a"
      },
      "cell_type": "markdown",
      "source": "## Training and Evaluating"
    },
    {
      "metadata": {
        "trusted": true,
        "_uuid": "f8efdbd1d2f1891d4cdfaa9e2e53587dce541079"
      },
      "cell_type": "code",
      "source": "# Fit the model\nhistory = model.fit_generator(datagen.flow(train_images,train_labels, batch_size=64),\n                              epochs = 35, \n                              verbose = 2, steps_per_epoch=train_images.shape[0] // 64\n                              )",
      "execution_count": 15,
      "outputs": [
        {
          "output_type": "stream",
          "text": "Epoch 1/35\n - 16s - loss: 0.1341 - acc: 0.9755\nEpoch 2/35\n - 17s - loss: 0.1218 - acc: 0.9782\nEpoch 3/35\n - 17s - loss: 0.1119 - acc: 0.9803\nEpoch 4/35\n - 18s - loss: 0.1032 - acc: 0.9812\nEpoch 5/35\n - 17s - loss: 0.0997 - acc: 0.9823\nEpoch 6/35\n - 18s - loss: 0.0933 - acc: 0.9839\nEpoch 7/35\n - 18s - loss: 0.0928 - acc: 0.9846\nEpoch 8/35\n - 17s - loss: 0.0883 - acc: 0.9852\nEpoch 9/35\n - 18s - loss: 0.0879 - acc: 0.9855\nEpoch 10/35\n - 18s - loss: 0.0872 - acc: 0.9861\nEpoch 11/35\n - 17s - loss: 0.0833 - acc: 0.9868\nEpoch 12/35\n - 18s - loss: 0.0807 - acc: 0.9869\nEpoch 13/35\n - 17s - loss: 0.0807 - acc: 0.9882\nEpoch 14/35\n - 18s - loss: 0.0804 - acc: 0.9869\nEpoch 15/35\n - 17s - loss: 0.0782 - acc: 0.9880\nEpoch 16/35\n - 17s - loss: 0.0805 - acc: 0.9871\nEpoch 17/35\n - 18s - loss: 0.0743 - acc: 0.9877\nEpoch 18/35\n - 18s - loss: 0.0744 - acc: 0.9890\nEpoch 19/35\n - 18s - loss: 0.0714 - acc: 0.9887\nEpoch 20/35\n - 18s - loss: 0.0715 - acc: 0.9896\nEpoch 21/35\n - 17s - loss: 0.0712 - acc: 0.9889\nEpoch 22/35\n - 17s - loss: 0.0703 - acc: 0.9900\nEpoch 23/35\n - 18s - loss: 0.0715 - acc: 0.9896\nEpoch 24/35\n - 18s - loss: 0.0666 - acc: 0.9904\nEpoch 25/35\n - 17s - loss: 0.0649 - acc: 0.9902\nEpoch 26/35\n - 17s - loss: 0.0669 - acc: 0.9900\nEpoch 27/35\n - 17s - loss: 0.0669 - acc: 0.9903\nEpoch 28/35\n - 18s - loss: 0.0644 - acc: 0.9904\nEpoch 29/35\n - 18s - loss: 0.0648 - acc: 0.9902\nEpoch 30/35\n - 18s - loss: 0.0651 - acc: 0.9904\nEpoch 31/35\n - 17s - loss: 0.0622 - acc: 0.9909\nEpoch 32/35\n - 17s - loss: 0.0624 - acc: 0.9907\nEpoch 33/35\n - 17s - loss: 0.0619 - acc: 0.9910\nEpoch 34/35\n - 17s - loss: 0.0619 - acc: 0.9913\nEpoch 35/35\n - 17s - loss: 0.0569 - acc: 0.9919\n",
          "name": "stdout"
        }
      ]
    },
    {
      "metadata": {
        "trusted": true,
        "_uuid": "27198a4c813a7e09e43457b5f6500f1002eb8899"
      },
      "cell_type": "code",
      "source": "# Plot the loss and accuracy curves for training and validation \nfig, ax = plt.subplots(2,1)\nax[0].plot(history.history['loss'], color='b', label=\"Training loss\")\nlegend = ax[0].legend(loc='best', shadow=True)\n\nax[1].plot(history.history['acc'], color='r', label=\"Training accuracy\")\nlegend = ax[1].legend(loc='best', shadow=True)",
      "execution_count": 16,
      "outputs": [
        {
          "output_type": "display_data",
          "data": {
            "text/plain": "<matplotlib.figure.Figure at 0x7fe744192358>",
            "image/png": "[encoded data removed]"
          },
          "metadata": {}
        }
      ]
    },
    {
      "metadata": {
        "_uuid": "c9652ba0e0bedce78117ed80ecebb4ecd83d980f"
      },
      "cell_type": "markdown",
      "source": "## Prediction and Submission"
    },
    {
      "metadata": {
        "trusted": true,
        "collapsed": true,
        "_uuid": "8c3285e3f03940be226900477971e250fb677b7b"
      },
      "cell_type": "code",
      "source": "# predict results\nresults = model.predict(test)",
      "execution_count": 17,
      "outputs": []
    },
    {
      "metadata": {
        "trusted": true,
        "collapsed": true,
        "_uuid": "22c97ecd225966833d92426570dc5e1210088b2e"
      },
      "cell_type": "code",
      "source": "# select the indix with the maximum probability\nresults = np.argmax(results,axis = 1)\nresults = pd.Series(results,name=\"Label\")",
      "execution_count": 18,
      "outputs": []
    },
    {
      "metadata": {
        "trusted": true,
        "collapsed": true,
        "_uuid": "e0cc5eb95228fbb68154ba1d578dc2897484a9ce"
      },
      "cell_type": "code",
      "source": "#concatinating result with series of numbers from 1 to 28000\nsubmission = pd.concat([pd.Series(range(1,28001),name = \"ImageId\"),results],axis = 1)\nsubmission.to_csv(\"cnn_mnist_datagen.csv\",index=False)",
      "execution_count": 19,
      "outputs": []
    },
    {
      "metadata": {
        "trusted": true,
        "collapsed": true,
        "_uuid": "0269338874c051afcc9e91b22b4cd06b501af260"
      },
      "cell_type": "code",
      "source": "model.save('digit_clfr.h5')",
      "execution_count": 20,
      "outputs": []
    },
    {
      "metadata": {
        "trusted": true,
        "collapsed": true,
        "_uuid": "7e1fca52c643555ec0c26dbf7156cdfaa09a271b"
      },
      "cell_type": "code",
      "source": "",
      "execution_count": null,
      "outputs": []
    }
  ],
  "metadata": {
    "kernelspec": {
      "display_name": "Python 3",
      "language": "python",
      "name": "python3"
    },
    "language_info": {
      "name": "python",
      "version": "3.6.4",
      "mimetype": "text/x-python",
      "codemirror_mode": {
        "name": "ipython",
        "version": 3
      },
      "pygments_lexer": "ipython3",
      "nbconvert_exporter": "python",
      "file_extension": ".py"
    }
  },
  "nbformat": 4,
  "nbformat_minor": 1
}